{
 "cells": [
  {
   "cell_type": "markdown",
   "metadata": {},
   "source": [
    "# A simple demo for the HowNet Python Package"
   ]
  },
  {
   "cell_type": "markdown",
   "metadata": {},
   "source": [
    "To begin with, make sure you have installed **Python 3.X**.  The **anytree** dependency is required to be installed.\n",
    "\n",
    "It is our only required dependency because other python packages we need in building the **HowNet** Python Package will be **defaultly** installed with the Python 3.X. \n",
    "\n",
    "Then you should download the **HowNet** Package.  Please checkout the installation by import the **Standards** module like the following code:"
   ]
  },
  {
   "cell_type": "code",
   "execution_count": 1,
   "metadata": {},
   "outputs": [
    {
     "output_type": "stream",
     "name": "stderr",
     "text": [
      "openhownet_data.zip: 100%|██████████| 107433/107432.51 [00:11<00:00, 9259.61KB/s] \n"
     ]
    }
   ],
   "source": [
    "import OpenHowNet\n",
    "OpenHowNet.download()"
   ]
  },
  {
   "cell_type": "markdown",
   "metadata": {},
   "source": [
    "After that we can build a **HowNet dict**:"
   ]
  },
  {
   "cell_type": "code",
   "execution_count": 2,
   "metadata": {},
   "outputs": [],
   "source": [
    "hownet_dict = OpenHowNet.HowNetDict()"
   ]
  },
  {
   "cell_type": "markdown",
   "metadata": {},
   "source": [
    "Finally, the preparation work is all done! Then let's explore some important features of HowNetDict!"
   ]
  },
  {
   "cell_type": "markdown",
   "metadata": {},
   "source": [
    "# Basic Usage of OpenHowNet Python Package"
   ]
  },
  {
   "cell_type": "markdown",
   "metadata": {},
   "source": [
    "## Get word annotations in HowNet\n",
    "<b> By default, the api will search the target word in both English and Chinese annotations in HowNet, which will cause significant search overhead. Note that if the target word does not exist in HowNet annotation, this api will simply return an empty list. </b>"
   ]
  },
  {
   "cell_type": "code",
   "execution_count": 3,
   "metadata": {},
   "outputs": [
    {
     "output_type": "stream",
     "name": "stdout",
     "text": [
      "检索数量： 6\n检索结果范例: {'Def': '{computer|电脑:modifier={PatternValue|样式值:CoEvent={able|能:scope={bring|携带:patient={$}}}}{SpeBrand|特定牌子}}', 'en_grammar': 'noun', 'ch_grammar': 'noun', 'No': '127151', 'syn': [{'id': '004024', 'text': 'IBM'}, {'id': '041684', 'text': '戴尔'}, {'id': '049006', 'text': '东芝'}, {'id': '106795', 'text': '联想'}, {'id': '156029', 'text': '索尼'}, {'id': '004203', 'text': 'iPad'}, {'id': '019457', 'text': '笔记本'}, {'id': '019458', 'text': '笔记本电脑'}, {'id': '019459', 'text': '笔记本电脑'}, {'id': '019460', 'text': '笔记本电脑'}, {'id': '019461', 'text': '笔记本电脑'}, {'id': '019463', 'text': '笔记簿电脑'}, {'id': '019464', 'text': '笔记簿电脑'}, {'id': '020567', 'text': '便携式电脑'}, {'id': '020568', 'text': '便携式计算机'}, {'id': '020569', 'text': '便携式计算机'}, {'id': '127224', 'text': '平板电脑'}, {'id': '127225', 'text': '平板电脑'}, {'id': '172264', 'text': '膝上型电脑'}, {'id': '172265', 'text': '膝上型电脑'}], 'ch_word': '苹果', 'en_word': 'apple'}\n"
     ]
    }
   ],
   "source": [
    "result_list = hownet_dict.get(\"苹果\")\n",
    "print(\"检索数量：\",len(result_list))\n",
    "print(\"检索结果范例:\",result_list[0])"
   ]
  },
  {
   "cell_type": "code",
   "execution_count": 4,
   "metadata": {},
   "outputs": [
    {
     "output_type": "execute_result",
     "data": {
      "text/plain": [
       "[]"
      ]
     },
     "metadata": {},
     "execution_count": 4
    }
   ],
   "source": [
    "hownet_dict.get(\"test_for_non_exist_word\")"
   ]
  },
  {
   "cell_type": "markdown",
   "metadata": {},
   "source": [
    "<b> You can visualize the retrieved HowNet structured annotations (\"sememe tree\") of the target word as follow : <br>\n",
    "    (K=2 means only display 2 sememe trees) </b>"
   ]
  },
  {
   "cell_type": "code",
   "execution_count": 5,
   "metadata": {},
   "outputs": [
    {
     "output_type": "stream",
     "name": "stdout",
     "text": [
      "Find 6 result(s)\nDisplay #0 sememe tree\n[sense]苹果\n└── [None]computer|电脑\n    ├── [modifier]PatternValue|样式值\n    │   └── [CoEvent]able|能\n    │       └── [scope]bring|携带\n    │           └── [patient]$\n    └── [patient]SpeBrand|特定牌子\nDisplay #1 sememe tree\n[sense]苹果\n└── [None]fruit|水果\n"
     ]
    }
   ],
   "source": [
    "hownet_dict.visualize_sememe_trees(\"苹果\", K=2)"
   ]
  },
  {
   "cell_type": "markdown",
   "metadata": {},
   "source": [
    "<b> To boost the efficiency of the search process, you can specify the language of the target word as the following. </b>"
   ]
  },
  {
   "cell_type": "code",
   "execution_count": 6,
   "metadata": {},
   "outputs": [
    {
     "output_type": "stream",
     "name": "stdout",
     "text": [
      "单语检索数量： 6\n单语检索结果范例: {'Def': '{computer|电脑:modifier={PatternValue|样式值:CoEvent={able|能:scope={bring|携带:patient={$}}}}{SpeBrand|特定牌子}}', 'en_grammar': 'noun', 'ch_grammar': 'noun', 'No': '127151', 'syn': [{'id': '004024', 'text': 'IBM'}, {'id': '041684', 'text': '戴尔'}, {'id': '049006', 'text': '东芝'}, {'id': '106795', 'text': '联想'}, {'id': '156029', 'text': '索尼'}, {'id': '004203', 'text': 'iPad'}, {'id': '019457', 'text': '笔记本'}, {'id': '019458', 'text': '笔记本电脑'}, {'id': '019459', 'text': '笔记本电脑'}, {'id': '019460', 'text': '笔记本电脑'}, {'id': '019461', 'text': '笔记本电脑'}, {'id': '019463', 'text': '笔记簿电脑'}, {'id': '019464', 'text': '笔记簿电脑'}, {'id': '020567', 'text': '便携式电脑'}, {'id': '020568', 'text': '便携式计算机'}, {'id': '020569', 'text': '便携式计算机'}, {'id': '127224', 'text': '平板电脑'}, {'id': '127225', 'text': '平板电脑'}, {'id': '172264', 'text': '膝上型电脑'}, {'id': '172265', 'text': '膝上型电脑'}], 'ch_word': '苹果', 'en_word': 'apple'}\n-------双语混合检索测试---------\n混合检索结果数量: 5\n中文检索结果数量: 3\n英语检索结果数量: 2\n"
     ]
    }
   ],
   "source": [
    "result_list = hownet_dict.get(\"苹果\", language=\"zh\")\n",
    "print(\"单语检索数量：\",len(result_list))\n",
    "print(\"单语检索结果范例:\",result_list[0])\n",
    "print(\"-------双语混合检索测试---------\")\n",
    "print(\"混合检索结果数量:\",len(hownet_dict.get(\"X\")))\n",
    "print(\"中文检索结果数量:\",len(hownet_dict.get(\"X\",language=\"zh\")))\n",
    "print(\"英语检索结果数量:\",len(hownet_dict.get(\"X\",language=\"en\")))"
   ]
  },
  {
   "cell_type": "code",
   "execution_count": 7,
   "metadata": {},
   "outputs": [
    {
     "output_type": "execute_result",
     "data": {
      "text/plain": [
       "[]"
      ]
     },
     "metadata": {},
     "execution_count": 7
    }
   ],
   "source": [
    "hownet_dict.get(\"苹果\", language=\"en\")"
   ]
  },
  {
   "cell_type": "markdown",
   "metadata": {},
   "source": [
    "## Get All Words annotated in HowNet"
   ]
  },
  {
   "cell_type": "code",
   "execution_count": 8,
   "metadata": {},
   "outputs": [],
   "source": [
    "zh_word_list = hownet_dict.get_zh_words()\n",
    "en_word_list = hownet_dict.get_en_words()"
   ]
  },
  {
   "cell_type": "code",
   "execution_count": 9,
   "metadata": {},
   "outputs": [
    {
     "output_type": "stream",
     "name": "stdout",
     "text": [
      "['', '\"', '#', '#号标签', '$', '%', \"'\", '(', ')', '*', '+', '-', '--', '...', '...出什么问题', '...底', '...底下', '...发生故障', '...发生了什么', '...何如', '...家里有几口人', '...检测呈阳性', '...检测呈阴性', '...来', '...内', '...为止', '...也同样使然', '...以来', '...以内', '...以上']\n"
     ]
    }
   ],
   "source": [
    "print(zh_word_list[:30])"
   ]
  },
  {
   "cell_type": "code",
   "execution_count": 10,
   "metadata": {
    "scrolled": true
   },
   "outputs": [
    {
     "output_type": "stream",
     "name": "stdout",
     "text": [
      "['A', 'An', 'Frenchmen', 'Frenchwomen', 'Ottomans', 'a', 'aardwolves', 'abaci', 'abandoned', 'abbreviated', 'abode', 'aboideaux', 'aboiteaux', 'abscissae', 'absorbed', 'acanthi', 'acari', 'accepted', 'acciaccature', 'acclaimed', 'accommodating', 'accompanied', 'accounting', 'accused', 'acetabula', 'acetified', 'aching', 'acicula', 'acini', 'acquired']\n"
     ]
    }
   ],
   "source": [
    "print(en_word_list[:30])"
   ]
  },
  {
   "cell_type": "markdown",
   "metadata": {},
   "source": [
    "## Get Flattened Sememe Trees for certain word or all words in HowNet\n",
    "\n",
    "<b> Cautions: the parameters \"lang\", \"merge\" and \"expanded_layer\" only works when \"structured = False\". The main consideration is that there are multiple ways to interpret these params when deal with structured data. We leave the freedom to our end user. In next section, you will be able to see how to utilize the structured data.\n",
    "\n",
    "   Detailed explanation of params will be displayed in our documentation.</b>"
   ]
  },
  {
   "cell_type": "markdown",
   "metadata": {},
   "source": [
    "### Get the full merged sememe list from multi-sense words"
   ]
  },
  {
   "cell_type": "code",
   "execution_count": 11,
   "metadata": {},
   "outputs": [
    {
     "output_type": "execute_result",
     "data": {
      "text/plain": [
       "{'交流', '携带', '树', '样式值', '水果', '特定牌子', '生殖', '用具', '电脑', '能'}"
      ]
     },
     "metadata": {},
     "execution_count": 11
    }
   ],
   "source": [
    "hownet_dict.get_sememes_by_word(\"苹果\",structured=False,lang=\"zh\",merge=True)"
   ]
  },
  {
   "cell_type": "code",
   "execution_count": 12,
   "metadata": {},
   "outputs": [
    {
     "output_type": "execute_result",
     "data": {
      "text/plain": [
       "{'$',\n",
       " 'PatternValue',\n",
       " 'SpeBrand',\n",
       " 'able',\n",
       " 'bring',\n",
       " 'communicate',\n",
       " 'computer',\n",
       " 'fruit',\n",
       " 'reproduce',\n",
       " 'tool',\n",
       " 'tree'}"
      ]
     },
     "metadata": {},
     "execution_count": 12
    }
   ],
   "source": [
    "hownet_dict.get_sememes_by_word(\"apple\",structured=False,lang=\"en\",merge=True)"
   ]
  },
  {
   "cell_type": "markdown",
   "metadata": {},
   "source": [
    "**Even if the language is not corresponding to the target word, the api still works. It will keep all the returned word entries to be in the same language you specified**"
   ]
  },
  {
   "cell_type": "code",
   "execution_count": 13,
   "metadata": {},
   "outputs": [
    {
     "output_type": "execute_result",
     "data": {
      "text/plain": [
       "{'apple': {'$',\n",
       "  'PatternValue',\n",
       "  'SpeBrand',\n",
       "  'able',\n",
       "  'bring',\n",
       "  'communicate',\n",
       "  'computer',\n",
       "  'fruit',\n",
       "  'reproduce',\n",
       "  'tool',\n",
       "  'tree'},\n",
       " 'malus pumila': {'fruit', 'reproduce', 'tree'},\n",
       " 'orchard apple tree': {'fruit', 'reproduce', 'tree'}}"
      ]
     },
     "metadata": {},
     "execution_count": 13
    }
   ],
   "source": [
    "hownet_dict.get_sememes_by_word(\"苹果\",structured=False,lang=\"en\",merge=True)"
   ]
  },
  {
   "cell_type": "markdown",
   "metadata": {},
   "source": [
    "**Note that, in the latest version, if the number of the word entries equals to one, for convenience, the api will simply return the set of sememes. See Out[11] for example.**"
   ]
  },
  {
   "cell_type": "markdown",
   "metadata": {},
   "source": [
    "<b> You could specify the number of the expanded layers like the following:</b>"
   ]
  },
  {
   "cell_type": "code",
   "execution_count": 14,
   "metadata": {},
   "outputs": [
    {
     "output_type": "execute_result",
     "data": {
      "text/plain": [
       "set()"
      ]
     },
     "metadata": {},
     "execution_count": 14
    }
   ],
   "source": [
    "hownet_dict.get_sememes_by_word(\"苹果\",structured=False,merge=True,expanded_layer=1)"
   ]
  },
  {
   "cell_type": "markdown",
   "metadata": {},
   "source": [
    "<b>You could get all flattened sememe trees for all words as well as specify the number of the expanded layers:</b>"
   ]
  },
  {
   "cell_type": "code",
   "execution_count": 15,
   "metadata": {},
   "outputs": [
    {
     "output_type": "execute_result",
     "data": {
      "text/plain": [
       "{'标点'}"
      ]
     },
     "metadata": {},
     "execution_count": 15
    }
   ],
   "source": [
    "hownet_dict.get_sememes_by_word(\"*\",structured=False,merge=True)"
   ]
  },
  {
   "cell_type": "markdown",
   "metadata": {},
   "source": [
    "<b> If you would like to see the sememe lists for different senses of particular word in HowNet,  just need to set the param \"merged\" to False.</b>"
   ]
  },
  {
   "cell_type": "code",
   "execution_count": 16,
   "metadata": {},
   "outputs": [
    {
     "output_type": "execute_result",
     "data": {
      "text/plain": [
       "[{'word': '苹果', 'sememes': {'携带', '样式值', '特定牌子', '电脑', '能'}},\n",
       " {'word': '苹果', 'sememes': {'水果'}},\n",
       " {'word': '苹果', 'sememes': {'交流', '携带', '样式值', '特定牌子', '用具', '能'}},\n",
       " {'word': '苹果', 'sememes': {'树', '水果', '生殖'}},\n",
       " {'word': '苹果', 'sememes': {'树', '水果', '生殖'}},\n",
       " {'word': '苹果', 'sememes': {'树', '水果', '生殖'}}]"
      ]
     },
     "metadata": {},
     "execution_count": 16
    }
   ],
   "source": [
    "hownet_dict.get_sememes_by_word(\"苹果\",structured=False,lang=\"zh\",merge=False)"
   ]
  },
  {
   "cell_type": "code",
   "execution_count": 17,
   "metadata": {},
   "outputs": [
    {
     "output_type": "execute_result",
     "data": {
      "text/plain": [
       "[{'word': 'apple',\n",
       "  'sememes': {'$', 'PatternValue', 'SpeBrand', 'able', 'bring', 'computer'}},\n",
       " {'word': 'apple', 'sememes': {'fruit'}},\n",
       " {'word': 'apple',\n",
       "  'sememes': {'$',\n",
       "   'PatternValue',\n",
       "   'SpeBrand',\n",
       "   'able',\n",
       "   'bring',\n",
       "   'communicate',\n",
       "   'tool'}},\n",
       " {'word': 'apple', 'sememes': {'fruit', 'reproduce', 'tree'}},\n",
       " {'word': 'apple',\n",
       "  'sememes': {'$',\n",
       "   'PatternValue',\n",
       "   'SpeBrand',\n",
       "   'able',\n",
       "   'bring',\n",
       "   'communicate',\n",
       "   'tool'}},\n",
       " {'word': 'apple', 'sememes': {'fruit', 'reproduce', 'tree'}},\n",
       " {'word': 'apple', 'sememes': {'fruit'}},\n",
       " {'word': 'apple', 'sememes': {'fruit'}}]"
      ]
     },
     "metadata": {},
     "execution_count": 17
    }
   ],
   "source": [
    "hownet_dict.get_sememes_by_word(\"apple\",structured=False,lang=\"en\",merge=False)"
   ]
  },
  {
   "cell_type": "markdown",
   "metadata": {},
   "source": [
    "## Get Structured Sememe Trees for certain words in HowNet"
   ]
  },
  {
   "cell_type": "code",
   "execution_count": 18,
   "metadata": {},
   "outputs": [
    {
     "output_type": "execute_result",
     "data": {
      "text/plain": [
       "{'role': 'sense',\n",
       " 'name': '苹果',\n",
       " 'children': [{'role': 'None',\n",
       "   'name': 'computer|电脑',\n",
       "   'children': [{'role': 'modifier',\n",
       "     'name': 'PatternValue|样式值',\n",
       "     'children': [{'role': 'CoEvent',\n",
       "       'name': 'able|能',\n",
       "       'children': [{'role': 'scope',\n",
       "         'name': 'bring|携带',\n",
       "         'children': [{'role': 'patient', 'name': '$'}]}]}]},\n",
       "    {'role': 'patient', 'name': 'SpeBrand|特定牌子'}]}]}"
      ]
     },
     "metadata": {},
     "execution_count": 18
    }
   ],
   "source": [
    "hownet_dict.get_sememes_by_word(\"苹果\",structured=True)[0][\"tree\"]"
   ]
  },
  {
   "cell_type": "markdown",
   "metadata": {},
   "source": [
    "<b> Two ways to see the corresponding annotation data </b>"
   ]
  },
  {
   "cell_type": "code",
   "execution_count": 19,
   "metadata": {},
   "outputs": [
    {
     "output_type": "execute_result",
     "data": {
      "text/plain": [
       "{'Def': '{computer|电脑:modifier={PatternValue|样式值:CoEvent={able|能:scope={bring|携带:patient={$}}}}{SpeBrand|特定牌子}}',\n",
       " 'en_grammar': 'noun',\n",
       " 'ch_grammar': 'noun',\n",
       " 'No': '127151',\n",
       " 'syn': [{'id': '004024', 'text': 'IBM'},\n",
       "  {'id': '041684', 'text': '戴尔'},\n",
       "  {'id': '049006', 'text': '东芝'},\n",
       "  {'id': '106795', 'text': '联想'},\n",
       "  {'id': '156029', 'text': '索尼'},\n",
       "  {'id': '004203', 'text': 'iPad'},\n",
       "  {'id': '019457', 'text': '笔记本'},\n",
       "  {'id': '019458', 'text': '笔记本电脑'},\n",
       "  {'id': '019459', 'text': '笔记本电脑'},\n",
       "  {'id': '019460', 'text': '笔记本电脑'},\n",
       "  {'id': '019461', 'text': '笔记本电脑'},\n",
       "  {'id': '019463', 'text': '笔记簿电脑'},\n",
       "  {'id': '019464', 'text': '笔记簿电脑'},\n",
       "  {'id': '020567', 'text': '便携式电脑'},\n",
       "  {'id': '020568', 'text': '便携式计算机'},\n",
       "  {'id': '020569', 'text': '便携式计算机'},\n",
       "  {'id': '127224', 'text': '平板电脑'},\n",
       "  {'id': '127225', 'text': '平板电脑'},\n",
       "  {'id': '172264', 'text': '膝上型电脑'},\n",
       "  {'id': '172265', 'text': '膝上型电脑'}],\n",
       " 'ch_word': '苹果',\n",
       " 'en_word': 'apple'}"
      ]
     },
     "metadata": {},
     "execution_count": 19
    }
   ],
   "source": [
    "hownet_dict.get_sememes_by_word(\"苹果\",structured=True)[0][\"word\"]"
   ]
  },
  {
   "cell_type": "code",
   "execution_count": 20,
   "metadata": {},
   "outputs": [
    {
     "output_type": "execute_result",
     "data": {
      "text/plain": [
       "{'Def': '{computer|电脑:modifier={PatternValue|样式值:CoEvent={able|能:scope={bring|携带:patient={$}}}}{SpeBrand|特定牌子}}',\n",
       " 'en_grammar': 'noun',\n",
       " 'ch_grammar': 'noun',\n",
       " 'No': '127151',\n",
       " 'syn': [{'id': '004024', 'text': 'IBM'},\n",
       "  {'id': '041684', 'text': '戴尔'},\n",
       "  {'id': '049006', 'text': '东芝'},\n",
       "  {'id': '106795', 'text': '联想'},\n",
       "  {'id': '156029', 'text': '索尼'},\n",
       "  {'id': '004203', 'text': 'iPad'},\n",
       "  {'id': '019457', 'text': '笔记本'},\n",
       "  {'id': '019458', 'text': '笔记本电脑'},\n",
       "  {'id': '019459', 'text': '笔记本电脑'},\n",
       "  {'id': '019460', 'text': '笔记本电脑'},\n",
       "  {'id': '019461', 'text': '笔记本电脑'},\n",
       "  {'id': '019463', 'text': '笔记簿电脑'},\n",
       "  {'id': '019464', 'text': '笔记簿电脑'},\n",
       "  {'id': '020567', 'text': '便携式电脑'},\n",
       "  {'id': '020568', 'text': '便携式计算机'},\n",
       "  {'id': '020569', 'text': '便携式计算机'},\n",
       "  {'id': '127224', 'text': '平板电脑'},\n",
       "  {'id': '127225', 'text': '平板电脑'},\n",
       "  {'id': '172264', 'text': '膝上型电脑'},\n",
       "  {'id': '172265', 'text': '膝上型电脑'}],\n",
       " 'ch_word': '苹果',\n",
       " 'en_word': 'apple'}"
      ]
     },
     "metadata": {},
     "execution_count": 20
    }
   ],
   "source": [
    "hownet_dict[\"苹果\"][0]"
   ]
  },
  {
   "cell_type": "markdown",
   "metadata": {},
   "source": [
    "## Get the static synonyms of the certain word\n",
    "<b>The similarity metrics are based on HowNet.</b>"
   ]
  },
  {
   "cell_type": "code",
   "execution_count": 21,
   "metadata": {},
   "outputs": [
    {
     "output_type": "execute_result",
     "data": {
      "text/plain": [
       "[{'id': '004024', 'text': 'IBM'},\n",
       " {'id': '041684', 'text': '戴尔'},\n",
       " {'id': '049006', 'text': '东芝'},\n",
       " {'id': '106795', 'text': '联想'},\n",
       " {'id': '156029', 'text': '索尼'},\n",
       " {'id': '004203', 'text': 'iPad'},\n",
       " {'id': '019457', 'text': '笔记本'},\n",
       " {'id': '019458', 'text': '笔记本电脑'},\n",
       " {'id': '019459', 'text': '笔记本电脑'},\n",
       " {'id': '019460', 'text': '笔记本电脑'},\n",
       " {'id': '019461', 'text': '笔记本电脑'},\n",
       " {'id': '019463', 'text': '笔记簿电脑'},\n",
       " {'id': '019464', 'text': '笔记簿电脑'},\n",
       " {'id': '020567', 'text': '便携式电脑'},\n",
       " {'id': '020568', 'text': '便携式计算机'},\n",
       " {'id': '020569', 'text': '便携式计算机'},\n",
       " {'id': '127224', 'text': '平板电脑'},\n",
       " {'id': '127225', 'text': '平板电脑'},\n",
       " {'id': '172264', 'text': '膝上型电脑'},\n",
       " {'id': '172265', 'text': '膝上型电脑'}]"
      ]
     },
     "metadata": {},
     "execution_count": 21
    }
   ],
   "source": [
    "hownet_dict[\"苹果\"][0][\"syn\"]"
   ]
  },
  {
   "cell_type": "markdown",
   "metadata": {},
   "source": [
    "## Get access of the word by ID"
   ]
  },
  {
   "cell_type": "code",
   "execution_count": 22,
   "metadata": {},
   "outputs": [
    {
     "output_type": "execute_result",
     "data": {
      "text/plain": [
       "[{'Def': '{computer|电脑:modifier={PatternValue|样式值:CoEvent={able|能:scope={bring|携带:patient={$}}}}{SpeBrand|特定牌子}}',\n",
       "  'en_grammar': 'noun',\n",
       "  'ch_grammar': 'noun',\n",
       "  'No': '004024',\n",
       "  'syn': [{'id': '041684', 'text': '戴尔'},\n",
       "   {'id': '049006', 'text': '东芝'},\n",
       "   {'id': '106795', 'text': '联想'},\n",
       "   {'id': '127151', 'text': '苹果'},\n",
       "   {'id': '156029', 'text': '索尼'},\n",
       "   {'id': '004203', 'text': 'iPad'},\n",
       "   {'id': '019457', 'text': '笔记本'},\n",
       "   {'id': '019458', 'text': '笔记本电脑'},\n",
       "   {'id': '019459', 'text': '笔记本电脑'},\n",
       "   {'id': '019460', 'text': '笔记本电脑'},\n",
       "   {'id': '019461', 'text': '笔记本电脑'},\n",
       "   {'id': '019463', 'text': '笔记簿电脑'},\n",
       "   {'id': '019464', 'text': '笔记簿电脑'},\n",
       "   {'id': '020567', 'text': '便携式电脑'},\n",
       "   {'id': '020568', 'text': '便携式计算机'},\n",
       "   {'id': '020569', 'text': '便携式计算机'},\n",
       "   {'id': '127224', 'text': '平板电脑'},\n",
       "   {'id': '127225', 'text': '平板电脑'},\n",
       "   {'id': '172264', 'text': '膝上型电脑'},\n",
       "   {'id': '172265', 'text': '膝上型电脑'}],\n",
       "  'ch_word': 'IBM',\n",
       "  'en_word': 'IBM'}]"
      ]
     },
     "metadata": {},
     "execution_count": 22
    }
   ],
   "source": [
    "hownet_dict[\"004024\"]"
   ]
  },
  {
   "cell_type": "markdown",
   "metadata": {},
   "source": [
    "## Get all sememes"
   ]
  },
  {
   "cell_type": "code",
   "execution_count": 23,
   "metadata": {},
   "outputs": [
    {
     "output_type": "execute_result",
     "data": {
      "text/plain": [
       "['模仿',\n",
       " '保护',\n",
       " '诱人性',\n",
       " '问候',\n",
       " '数量关系',\n",
       " '仅',\n",
       " '经济',\n",
       " '捣乱',\n",
       " '弊',\n",
       " '劝说',\n",
       " '宁乱',\n",
       " '得罪',\n",
       " '定期',\n",
       " '能力值',\n",
       " '辣',\n",
       " '漂',\n",
       " '友善性值',\n",
       " '泰国',\n",
       " '信息载体',\n",
       " '之间',\n",
       " '特殊性',\n",
       " '爱尔兰',\n",
       " '灰',\n",
       " '幅度',\n",
       " '不当',\n",
       " '程度值',\n",
       " '不稳',\n",
       " '表示坏情感',\n",
       " '构助',\n",
       " '上海',\n",
       " '发射',\n",
       " '善待',\n",
       " '注意',\n",
       " '仪态',\n",
       " '男',\n",
       " '怯',\n",
       " '卢旺达',\n",
       " '中非',\n",
       " '遭受',\n",
       " '首次',\n",
       " '制造',\n",
       " '毛里求斯',\n",
       " '扎',\n",
       " '规矩',\n",
       " '分析',\n",
       " '状况',\n",
       " '非',\n",
       " '变形状',\n",
       " '无礼',\n",
       " '有序',\n",
       " '浓',\n",
       " '拔出',\n",
       " '茂',\n",
       " '疼痛',\n",
       " '未成熟',\n",
       " '比较',\n",
       " '坐蹲',\n",
       " '摩洛哥',\n",
       " '暗',\n",
       " '废',\n",
       " '精',\n",
       " '乌干达',\n",
       " '足',\n",
       " '朝向',\n",
       " '采集',\n",
       " '全面',\n",
       " '使脏',\n",
       " '巴布亚',\n",
       " '平均',\n",
       " '搀扶',\n",
       " '不公正',\n",
       " '推荐',\n",
       " '积极',\n",
       " '安哥拉',\n",
       " '赠',\n",
       " '叙利亚',\n",
       " '使继续',\n",
       " '逻辑性',\n",
       " '印度尼西亚',\n",
       " '支撑',\n",
       " '托住',\n",
       " '示喜',\n",
       " '无望',\n",
       " '甜',\n",
       " '长时间',\n",
       " '不说',\n",
       " '准确性',\n",
       " '叮',\n",
       " '马达加斯加',\n",
       " '借入',\n",
       " '变空间位置',\n",
       " '扎伊尔',\n",
       " '文字',\n",
       " '无',\n",
       " '澳门',\n",
       " '柔',\n",
       " '好情',\n",
       " '低植',\n",
       " '气',\n",
       " '拉脱维亚',\n",
       " '抢',\n",
       " '事务',\n",
       " '贱',\n",
       " '埋入',\n",
       " '晚期',\n",
       " '赞比亚',\n",
       " '立场',\n",
       " '格林纳达',\n",
       " '利弊',\n",
       " '处理',\n",
       " '排泄',\n",
       " '有关',\n",
       " '清晰度',\n",
       " '超',\n",
       " '地方',\n",
       " '组织',\n",
       " '不重要',\n",
       " '臭名',\n",
       " '暴',\n",
       " '印度',\n",
       " '免除',\n",
       " '堵塞',\n",
       " '文莱',\n",
       " '形成',\n",
       " '独自',\n",
       " '房间',\n",
       " '喜悦',\n",
       " '穿戴',\n",
       " '胖瘦',\n",
       " '标点',\n",
       " '不讲理',\n",
       " '利用',\n",
       " '不适',\n",
       " '长度值',\n",
       " '丹麦',\n",
       " '体格',\n",
       " '犹豫',\n",
       " '降级',\n",
       " '集聚',\n",
       " '荣',\n",
       " '激怒',\n",
       " '装束值',\n",
       " '继续',\n",
       " '巴勒斯坦',\n",
       " '素',\n",
       " '民用',\n",
       " '质量',\n",
       " '角度',\n",
       " '萨摩亚',\n",
       " '谴责',\n",
       " '投下',\n",
       " '黏度',\n",
       " '凉',\n",
       " '支',\n",
       " '白俄罗斯',\n",
       " '可能',\n",
       " '相等',\n",
       " '不足',\n",
       " '放纵',\n",
       " '罗得岛',\n",
       " '前景差',\n",
       " '前',\n",
       " '相像',\n",
       " '猜测',\n",
       " '监察',\n",
       " '赎',\n",
       " '渺',\n",
       " '出现',\n",
       " '标准',\n",
       " '锻炼',\n",
       " '颠倒',\n",
       " '浅薄',\n",
       " '适合',\n",
       " '无序',\n",
       " '后天',\n",
       " '加重',\n",
       " '特定牌子',\n",
       " '空满',\n",
       " '正向',\n",
       " '贞操',\n",
       " '身分',\n",
       " '喊',\n",
       " '条约',\n",
       " '少',\n",
       " '塞舌尔',\n",
       " '硬',\n",
       " '怜悯',\n",
       " '深度',\n",
       " '按时',\n",
       " '爬',\n",
       " '辜负',\n",
       " '明暗',\n",
       " '南洋',\n",
       " '上移',\n",
       " '加快',\n",
       " '气味',\n",
       " '北朝鲜',\n",
       " '难听',\n",
       " '萨尔瓦多',\n",
       " '升级',\n",
       " '发炎',\n",
       " '下去',\n",
       " '防守',\n",
       " '房屋',\n",
       " '东京',\n",
       " '络',\n",
       " '攻打',\n",
       " '不匀称',\n",
       " '合并',\n",
       " '必要性',\n",
       " '问',\n",
       " '已经',\n",
       " '相关性',\n",
       " '自杀',\n",
       " '尝试',\n",
       " '着重',\n",
       " '比率',\n",
       " '研究',\n",
       " '量度',\n",
       " '适应性',\n",
       " '相比关系',\n",
       " '吐出',\n",
       " '英国',\n",
       " '欧洲',\n",
       " '原因',\n",
       " '处于',\n",
       " '帮助',\n",
       " '不诚实',\n",
       " '大概',\n",
       " '征收',\n",
       " '景象',\n",
       " '经典',\n",
       " '读物',\n",
       " '相交',\n",
       " '示思念',\n",
       " '示不满',\n",
       " '混合',\n",
       " '精装',\n",
       " '极',\n",
       " '味淡',\n",
       " '足球',\n",
       " '辱',\n",
       " '能',\n",
       " '空',\n",
       " '风格',\n",
       " '主',\n",
       " '有利',\n",
       " '有创意',\n",
       " '友善',\n",
       " '取乐',\n",
       " '票据',\n",
       " '特性',\n",
       " '中美洲',\n",
       " '年龄',\n",
       " '粗细值',\n",
       " '缘于',\n",
       " '加浓',\n",
       " '下',\n",
       " '疏远',\n",
       " '乞求',\n",
       " '高尚',\n",
       " '脏',\n",
       " '软',\n",
       " '跟随',\n",
       " '当作',\n",
       " '相关',\n",
       " '淘',\n",
       " '滚',\n",
       " '倒霉',\n",
       " '分别的',\n",
       " '衔起',\n",
       " '明显性',\n",
       " '好听',\n",
       " '薄',\n",
       " '瞒',\n",
       " '周围',\n",
       " '浸入',\n",
       " '喜欢',\n",
       " '慷',\n",
       " '苏里南',\n",
       " '费用',\n",
       " '凹',\n",
       " '证券',\n",
       " '控制',\n",
       " '深浅',\n",
       " '距离值',\n",
       " '洞察力',\n",
       " '弯度',\n",
       " '巴布亚新几内亚',\n",
       " '逃跑',\n",
       " '和谐',\n",
       " '体育',\n",
       " '木',\n",
       " '偷',\n",
       " '建立',\n",
       " '易变',\n",
       " '阿富汗',\n",
       " '温',\n",
       " '反抗',\n",
       " '增多',\n",
       " '冒险',\n",
       " '证明',\n",
       " '已婚',\n",
       " '先进',\n",
       " '连接',\n",
       " '抗议',\n",
       " '羞愧',\n",
       " '栽植',\n",
       " '序数',\n",
       " '失望',\n",
       " '物形',\n",
       " '凸',\n",
       " '衰败',\n",
       " '感受',\n",
       " '可靠性',\n",
       " '逆',\n",
       " '柴可夫斯基',\n",
       " '理智',\n",
       " '身矮',\n",
       " '长',\n",
       " '被动',\n",
       " '久暂值',\n",
       " '胡闹',\n",
       " '来源值',\n",
       " '匀称性',\n",
       " '离开',\n",
       " '生物',\n",
       " '无疵',\n",
       " '不同',\n",
       " '新加坡',\n",
       " '贵',\n",
       " '瘫麻',\n",
       " '抚',\n",
       " '肯尼亚',\n",
       " '愚',\n",
       " '赞成',\n",
       " '饮品',\n",
       " '拾起',\n",
       " '放松',\n",
       " '抽搐',\n",
       " '总计',\n",
       " '解密',\n",
       " '整',\n",
       " '变',\n",
       " '科摩罗',\n",
       " '答',\n",
       " '忠',\n",
       " '语言',\n",
       " '否',\n",
       " '出去',\n",
       " '珍',\n",
       " '收',\n",
       " '先进性',\n",
       " '好看',\n",
       " '荒',\n",
       " '程度',\n",
       " '花草',\n",
       " '建造',\n",
       " '尼加拉瓜',\n",
       " '深刻',\n",
       " '衣物',\n",
       " '问世',\n",
       " '回移',\n",
       " '时间特性',\n",
       " '莽',\n",
       " '无能',\n",
       " '开除',\n",
       " '秋',\n",
       " '地力',\n",
       " '活动',\n",
       " '包扎',\n",
       " '早期',\n",
       " '偷懒',\n",
       " '方向性他移',\n",
       " '划定',\n",
       " '久暂',\n",
       " '补做',\n",
       " '考试',\n",
       " '点',\n",
       " '扭转',\n",
       " '不舍',\n",
       " '典雅',\n",
       " '落落大方',\n",
       " '方位特性值',\n",
       " '速度值',\n",
       " '左',\n",
       " '状态',\n",
       " '致敬',\n",
       " '延续',\n",
       " '感动',\n",
       " '频度值',\n",
       " '严重性',\n",
       " '诱人',\n",
       " '性能',\n",
       " '给',\n",
       " '当',\n",
       " '格鲁吉亚',\n",
       " '谋取',\n",
       " '促使',\n",
       " '概数',\n",
       " '好坏',\n",
       " '不必要',\n",
       " '爱惜',\n",
       " '妒忌',\n",
       " '单位',\n",
       " '拿',\n",
       " '香',\n",
       " '波利尼西亚',\n",
       " '稍',\n",
       " '捷克和斯洛伐克',\n",
       " '成熟',\n",
       " '招惹',\n",
       " '出版',\n",
       " '独特',\n",
       " '加纳',\n",
       " '仁',\n",
       " '消闲',\n",
       " '搂抱',\n",
       " '嫁',\n",
       " '著名',\n",
       " '无生命',\n",
       " '隐秘',\n",
       " '韩国',\n",
       " '无创意',\n",
       " '习惯性',\n",
       " '低等',\n",
       " '主次',\n",
       " '外移',\n",
       " '分钟',\n",
       " '外包装值',\n",
       " '指代',\n",
       " '功过',\n",
       " '赚',\n",
       " '诊察',\n",
       " '荣辱',\n",
       " '伊朗',\n",
       " '排泄物',\n",
       " '慢',\n",
       " '画',\n",
       " '本土',\n",
       " '荷兰',\n",
       " '射击',\n",
       " '冷清',\n",
       " '削减',\n",
       " '使之动',\n",
       " '住下',\n",
       " '旬',\n",
       " '相信',\n",
       " '发送',\n",
       " '纯化',\n",
       " '胆量',\n",
       " '做梦',\n",
       " '不正常',\n",
       " '成熟度',\n",
       " '布隆迪',\n",
       " '惬',\n",
       " '埋怨',\n",
       " '尾',\n",
       " '陡',\n",
       " '跑',\n",
       " '便',\n",
       " '日本',\n",
       " '拴连',\n",
       " '嗜好',\n",
       " '咀嚼',\n",
       " '制冷',\n",
       " '差遣',\n",
       " '功率',\n",
       " '国籍值',\n",
       " '留给',\n",
       " '经受',\n",
       " '总是',\n",
       " '失去',\n",
       " '战胜',\n",
       " '不一致',\n",
       " '未婚',\n",
       " '没志气',\n",
       " '缓急',\n",
       " '时间特性值',\n",
       " '斯威士兰',\n",
       " '洁净',\n",
       " '从不',\n",
       " '清醒',\n",
       " '看',\n",
       " '饲养',\n",
       " '元首',\n",
       " '使锋利',\n",
       " '动果',\n",
       " '通俗',\n",
       " '越南',\n",
       " '机密',\n",
       " '安慰',\n",
       " '窄',\n",
       " '疑似',\n",
       " '非洲',\n",
       " '乱',\n",
       " '不挤',\n",
       " '特立尼达和多巴哥',\n",
       " '擦拭',\n",
       " '讲和',\n",
       " '面',\n",
       " '教养',\n",
       " '认知',\n",
       " '它',\n",
       " '乐器',\n",
       " '尖',\n",
       " '翅',\n",
       " '板球',\n",
       " '杂',\n",
       " '热情',\n",
       " '高矮',\n",
       " '马拉维',\n",
       " '中东',\n",
       " '提及',\n",
       " '强过',\n",
       " '不容',\n",
       " '行动',\n",
       " '尼日利亚',\n",
       " '可靠',\n",
       " '坏风气',\n",
       " '蛮干',\n",
       " '使存现',\n",
       " '意大利',\n",
       " '争斗',\n",
       " '迟',\n",
       " '消灭',\n",
       " '阿曼',\n",
       " '总',\n",
       " '欺骗',\n",
       " '等待',\n",
       " '黏',\n",
       " '代谢',\n",
       " '合逻辑',\n",
       " '淫',\n",
       " '僧伽罗',\n",
       " '交往',\n",
       " '特别',\n",
       " '婉',\n",
       " '描写',\n",
       " '引用',\n",
       " '印刷',\n",
       " '普通',\n",
       " '部件',\n",
       " '肿胀',\n",
       " '搬动',\n",
       " '携带',\n",
       " '泛动',\n",
       " '长度',\n",
       " '归属地方',\n",
       " '与女性相关',\n",
       " '哥斯达黎加',\n",
       " '供',\n",
       " '气味值',\n",
       " '能力',\n",
       " '间接',\n",
       " '使他人感知',\n",
       " '审问',\n",
       " '喝',\n",
       " '小辈',\n",
       " '安',\n",
       " '道歉',\n",
       " '半',\n",
       " '傲气',\n",
       " '抄写',\n",
       " '吉布提',\n",
       " '惋惜',\n",
       " '干',\n",
       " '修理',\n",
       " '庸',\n",
       " '爱斯基摩',\n",
       " '分发',\n",
       " '满意',\n",
       " '最佳',\n",
       " '归属中央',\n",
       " '良态',\n",
       " '翘耸',\n",
       " '面积',\n",
       " '右',\n",
       " '巴林',\n",
       " '精确',\n",
       " '醒',\n",
       " '赌博',\n",
       " '示怒',\n",
       " '秘鲁',\n",
       " '代替',\n",
       " '漏出',\n",
       " '酒',\n",
       " '保加利亚',\n",
       " '菲律宾',\n",
       " '篮球',\n",
       " '兴衰',\n",
       " '侧',\n",
       " '表示',\n",
       " '火',\n",
       " '病态',\n",
       " '无价值',\n",
       " '垒球',\n",
       " '祝贺',\n",
       " '加害',\n",
       " '谈话',\n",
       " '免费',\n",
       " '吓唬',\n",
       " '东帝汶',\n",
       " '机动性',\n",
       " '无诚心',\n",
       " '具体',\n",
       " '光',\n",
       " '共',\n",
       " '莱索托',\n",
       " '高',\n",
       " '拟人',\n",
       " '多',\n",
       " '农',\n",
       " '多余',\n",
       " '独立',\n",
       " '颤动',\n",
       " '苏格兰',\n",
       " '自私',\n",
       " '管理',\n",
       " '通俗性',\n",
       " '经常',\n",
       " '心',\n",
       " '量变',\n",
       " '临时',\n",
       " '成形',\n",
       " '秃',\n",
       " '灿烂',\n",
       " '交配',\n",
       " '均衡',\n",
       " '实体',\n",
       " '勤',\n",
       " '外来',\n",
       " '敢于',\n",
       " '付',\n",
       " '回想',\n",
       " '内容值',\n",
       " '散',\n",
       " '打',\n",
       " '永久性',\n",
       " '间断',\n",
       " '小',\n",
       " '可信',\n",
       " '高度',\n",
       " '削弱',\n",
       " '鼓吹',\n",
       " '背叛',\n",
       " '手',\n",
       " '同意',\n",
       " '会',\n",
       " '减慢',\n",
       " '非常好',\n",
       " '积极性',\n",
       " '还',\n",
       " '充实',\n",
       " '哭泣',\n",
       " '消化',\n",
       " '歪',\n",
       " '有可能',\n",
       " '海地',\n",
       " '塞浦路斯',\n",
       " '变外观',\n",
       " '有罪',\n",
       " '走兽',\n",
       " '欠',\n",
       " '自由度',\n",
       " '禽',\n",
       " '壮观',\n",
       " '享受',\n",
       " '加蓬',\n",
       " '聚集',\n",
       " '强',\n",
       " '同辈',\n",
       " '吃饱',\n",
       " '烹调',\n",
       " '推',\n",
       " '反面',\n",
       " '保险',\n",
       " '转动',\n",
       " '正常',\n",
       " '现象',\n",
       " '招待',\n",
       " '胚',\n",
       " '境况值',\n",
       " '洒下',\n",
       " '紫',\n",
       " '驱赶',\n",
       " '离别',\n",
       " '法国',\n",
       " '重复',\n",
       " '有毒',\n",
       " '阿拉伯联合酋长国',\n",
       " '心地',\n",
       " '装载',\n",
       " '频度',\n",
       " '波斯',\n",
       " '他',\n",
       " '保持',\n",
       " '功',\n",
       " '植物',\n",
       " '生物学',\n",
       " '直',\n",
       " '正误',\n",
       " '精神',\n",
       " '没羞',\n",
       " '属于',\n",
       " '广',\n",
       " '勾引',\n",
       " '有能力',\n",
       " '使净',\n",
       " '缺',\n",
       " '大',\n",
       " '香港',\n",
       " '人工物',\n",
       " '过去',\n",
       " '拆卸',\n",
       " '洁',\n",
       " '不坚决',\n",
       " '南美',\n",
       " '长辈',\n",
       " '插入',\n",
       " '液',\n",
       " '斯里兰卡',\n",
       " '揭露',\n",
       " '死',\n",
       " '民事',\n",
       " '复',\n",
       " '友',\n",
       " '刚果',\n",
       " '心不在焉',\n",
       " '上去',\n",
       " '线',\n",
       " '配偶',\n",
       " '接受',\n",
       " '使成长',\n",
       " '摆动',\n",
       " '价格',\n",
       " '借出',\n",
       " '态度',\n",
       " '唱',\n",
       " '休息',\n",
       " '运送',\n",
       " '物理状态',\n",
       " '好运',\n",
       " '形状值',\n",
       " '境况',\n",
       " '龊',\n",
       " '热量',\n",
       " '厚',\n",
       " '国家',\n",
       " '上次',\n",
       " '适宜',\n",
       " '展示',\n",
       " '实验',\n",
       " '沙特阿拉伯',\n",
       " '衰变',\n",
       " '粗',\n",
       " '全额',\n",
       " '古巴',\n",
       " '缠绕',\n",
       " '情绪',\n",
       " '指使',\n",
       " '偏僻',\n",
       " '有准备',\n",
       " '切削',\n",
       " '乌克兰',\n",
       " '乡',\n",
       " '非法',\n",
       " '身',\n",
       " '龄大',\n",
       " '器具',\n",
       " '注意力',\n",
       " '坏天',\n",
       " '俄罗斯',\n",
       " '合作',\n",
       " '智利',\n",
       " '样式值',\n",
       " '忍耐',\n",
       " '理睬',\n",
       " '很',\n",
       " '标志',\n",
       " '吉尔吉斯斯坦',\n",
       " '拐弯',\n",
       " '龄小',\n",
       " '到达',\n",
       " '伊斯兰教',\n",
       " '临产',\n",
       " '思想',\n",
       " '谋生',\n",
       " '有形性',\n",
       " '象牙海岸',\n",
       " '无意',\n",
       " '美丑',\n",
       " '芬兰',\n",
       " '实现',\n",
       " '纪律性',\n",
       " '静态',\n",
       " '汤加',\n",
       " '娶',\n",
       " '加湿',\n",
       " '评估',\n",
       " '回避',\n",
       " '规划',\n",
       " '屈服',\n",
       " '斯洛文尼亚',\n",
       " '推理',\n",
       " '包围',\n",
       " '界限',\n",
       " '上',\n",
       " '有功劳',\n",
       " '志气',\n",
       " '辫编',\n",
       " '喷出',\n",
       " '浇灌',\n",
       " '罗得西亚',\n",
       " '呼出',\n",
       " '诚心',\n",
       " '接近',\n",
       " '怀孕',\n",
       " '诚实',\n",
       " '尖声',\n",
       " '不友善',\n",
       " '疲乏',\n",
       " '疏通',\n",
       " '合作性',\n",
       " '劫难',\n",
       " '礼貌',\n",
       " '放置',\n",
       " '智慧',\n",
       " '价值值',\n",
       " '私心',\n",
       " '进入',\n",
       " '木然',\n",
       " '货币',\n",
       " '争吵',\n",
       " '领会',\n",
       " '食物',\n",
       " '表示情感',\n",
       " '多少',\n",
       " '下移',\n",
       " '不相关',\n",
       " '国都',\n",
       " '同步',\n",
       " '关系',\n",
       " '苏丹',\n",
       " '邀请',\n",
       " '相互',\n",
       " '无色',\n",
       " '赊',\n",
       " '容积',\n",
       " '常态',\n",
       " '天象',\n",
       " '正面',\n",
       " '称作',\n",
       " '引导',\n",
       " '为难',\n",
       " '音质值',\n",
       " '有备性',\n",
       " '阿联酋',\n",
       " '疯痴',\n",
       " '内',\n",
       " '创造',\n",
       " '难',\n",
       " '啃咬',\n",
       " '稳定性',\n",
       " '厚度',\n",
       " '变特性',\n",
       " '不满',\n",
       " '分离',\n",
       " '也门',\n",
       " '丧偶',\n",
       " '基数',\n",
       " '缅甸',\n",
       " '新近',\n",
       " '齐',\n",
       " '快',\n",
       " '不成形',\n",
       " '动物',\n",
       " '命令',\n",
       " '嵌入',\n",
       " '军',\n",
       " '经过',\n",
       " '道路',\n",
       " '仇恨',\n",
       " '黄',\n",
       " '创造性',\n",
       " '深',\n",
       " '表情',\n",
       " '冰',\n",
       " '维吾尔',\n",
       " '搭乘',\n",
       " '与男性相关',\n",
       " '健康',\n",
       " '选拔',\n",
       " '亲密',\n",
       " '柬埔寨',\n",
       " '晨',\n",
       " '调查',\n",
       " '结果',\n",
       " '交',\n",
       " '墨西哥',\n",
       " '敌',\n",
       " '澳洲',\n",
       " '取',\n",
       " '单',\n",
       " '工',\n",
       " '异',\n",
       " '崎岖',\n",
       " '易',\n",
       " '追赶',\n",
       " '场所',\n",
       " '浑',\n",
       " '偶尔',\n",
       " '己',\n",
       " '示不同意',\n",
       " '青',\n",
       " '臂',\n",
       " '低声',\n",
       " '南斯拉夫',\n",
       " '异步',\n",
       " '恒定',\n",
       " '保存',\n",
       " '花费',\n",
       " '谦',\n",
       " '北京',\n",
       " '困扰',\n",
       " '斐济',\n",
       " '音乐',\n",
       " '繁',\n",
       " '嫩',\n",
       " '约旦',\n",
       " '坚决',\n",
       " '达荷美',\n",
       " '来源',\n",
       " '强迫',\n",
       " '召唤',\n",
       " '遵循',\n",
       " '埃及',\n",
       " '表演',\n",
       " '粗细',\n",
       " '符号',\n",
       " '归属值',\n",
       " '突尼斯',\n",
       " '商讨',\n",
       " '微生物',\n",
       " '自移',\n",
       " '药物',\n",
       " '方向',\n",
       " '习惯值',\n",
       " '渐进性',\n",
       " '导致',\n",
       " '县',\n",
       " '加工状况',\n",
       " '冲淡',\n",
       " '始',\n",
       " '外观',\n",
       " '扣住',\n",
       " '奥地利',\n",
       " '优化',\n",
       " '忧愁',\n",
       " '占领',\n",
       " '致哀',\n",
       " '羡慕',\n",
       " '仓促',\n",
       " '方法',\n",
       " '狭',\n",
       " '船',\n",
       " '身分值',\n",
       " '冷漠',\n",
       " '端',\n",
       " '学问',\n",
       " '台湾',\n",
       " '不值',\n",
       " '马里',\n",
       " '味道',\n",
       " '难易',\n",
       " '普鲁士',\n",
       " '存在',\n",
       " '直接',\n",
       " '犹太人',\n",
       " '终生',\n",
       " '没可能',\n",
       " '直系',\n",
       " '测量',\n",
       " '自愿',\n",
       " '问题',\n",
       " '道理',\n",
       " '体液',\n",
       " '靠近',\n",
       " '阿尔及利亚',\n",
       " '价格值',\n",
       " '叠',\n",
       " '疾病',\n",
       " '动助',\n",
       " '举止',\n",
       " '消极',\n",
       " '信息元素',\n",
       " '朝代',\n",
       " '正经',\n",
       " '发达',\n",
       " '液态',\n",
       " ...]"
      ]
     },
     "metadata": {},
     "execution_count": 23
    }
   ],
   "source": [
    "hownet_dict.get_all_sememes()"
   ]
  },
  {
   "source": [
    "### Get Relationship Between Two Sememes\n",
    "\n",
    "The output could be hypernym, hyponym, antonym or converse."
   ],
   "cell_type": "markdown",
   "metadata": {}
  },
  {
   "cell_type": "code",
   "execution_count": 24,
   "metadata": {},
   "outputs": [
    {
     "output_type": "execute_result",
     "data": {
      "text/plain": [
       "'hyponym'"
      ]
     },
     "metadata": {},
     "execution_count": 24
    }
   ],
   "source": [
    "hownet_dict.get_sememe_relation(\"音量值\", \"尖声\")"
   ]
  },
  {
   "cell_type": "code",
   "execution_count": 25,
   "metadata": {},
   "outputs": [
    {
     "output_type": "execute_result",
     "data": {
      "text/plain": [
       "'hyponym'"
      ]
     },
     "metadata": {},
     "execution_count": 25
    }
   ],
   "source": [
    "hownet_dict.get_sememe_relation(\"音量值\", \"shrill\")"
   ]
  },
  {
   "source": [
    "### Get sememes having a certain relation with the input sememe\n",
    "The sememe you input can be in any language, but the relation must be in lowercase English. You can specify the language of result, by default it will be Chinese."
   ],
   "cell_type": "markdown",
   "metadata": {}
  },
  {
   "cell_type": "code",
   "execution_count": 26,
   "metadata": {},
   "outputs": [
    {
     "output_type": "execute_result",
     "data": {
      "text/plain": [
       "['高声', '低声', '尖声', '沙哑', '无声', '有声']"
      ]
     },
     "metadata": {},
     "execution_count": 26
    }
   ],
   "source": [
    "hownet_dict.get_sememe_via_relation(\"音量值\", \"hyponym\")"
   ]
  },
  {
   "cell_type": "code",
   "execution_count": 27,
   "metadata": {},
   "outputs": [
    {
     "output_type": "execute_result",
     "data": {
      "text/plain": [
       "['loud', 'LowVoice', 'shrill', 'hoarse', 'silent', 'talking']"
      ]
     },
     "metadata": {},
     "execution_count": 27
    }
   ],
   "source": [
    "hownet_dict.get_sememe_via_relation(\"音量值\", \"hyponym\", lang=\"en\")"
   ]
  },
  {
   "cell_type": "markdown",
   "metadata": {},
   "source": [
    "# Advanced Feature #1: Word Similarity Calculation via Sememes\n",
    "<b>The following parts are mainly implemented by Jun Yan and integrated by Chenghao Yang. Our implementation is based on the paper: </b>\n",
    "\n",
    "  >Jiangming Liu, Jinan Xu, Yujie Zhang. An Approach of Hybrid Hierarchical Structure for Word Similarity Computing by HowNet. In Proceedings of IJCNLP"
   ]
  },
  {
   "cell_type": "markdown",
   "metadata": {},
   "source": [
    "## Extra Initialization"
   ]
  },
  {
   "cell_type": "markdown",
   "metadata": {},
   "source": [
    "<b> Because there are some files required to be loaded for similarity calculation. The initialization overhead will be larger than before. To begin with, you can initialize the hownet_dict object as the following code:</b>"
   ]
  },
  {
   "cell_type": "code",
   "execution_count": 29,
   "metadata": {},
   "outputs": [],
   "source": [
    "hownet_dict_advanced = OpenHowNet.HowNetDict(use_sim=True)"
   ]
  },
  {
   "cell_type": "markdown",
   "metadata": {},
   "source": [
    "<b>You can also postpone the initialization work of similarity calculation until use. The following code serves as an example and the return value will indicate whether the extra initialization process succeed.</b>"
   ]
  },
  {
   "cell_type": "code",
   "execution_count": 30,
   "metadata": {},
   "outputs": [
    {
     "output_type": "execute_result",
     "data": {
      "text/plain": [
       "True"
      ]
     },
     "metadata": {},
     "execution_count": 30
    }
   ],
   "source": [
    "hownet_dict.initialize_sememe_similarity_calculation()"
   ]
  },
  {
   "cell_type": "markdown",
   "metadata": {},
   "source": [
    "## Get Top-K Nearest Words for the Given Word\n",
    "<b>If the given word does not exist in HowNet annotations, this function will return an empty list.</b>"
   ]
  },
  {
   "cell_type": "code",
   "execution_count": 31,
   "metadata": {},
   "outputs": [
    {
     "output_type": "stream",
     "name": "stdout",
     "text": [
      "word_name: 苹果\nid: 127151\nsynset and corresonding word&id&score:\n[{'id': 4024, 'word': 'IBM', 'score': 1.0}, {'id': 41684, 'word': '戴尔', 'score': 1.0}, {'id': 49006, 'word': '东芝', 'score': 1.0}, {'id': 106795, 'word': '联想', 'score': 1.0}, {'id': 156029, 'word': '索尼', 'score': 1.0}, {'id': 4203, 'word': 'iPad', 'score': 0.865}, {'id': 19457, 'word': '笔记本', 'score': 0.865}, {'id': 19458, 'word': '笔记本电脑', 'score': 0.865}, {'id': 19459, 'word': '笔记本电脑', 'score': 0.865}, {'id': 19460, 'word': '笔记本电脑', 'score': 0.865}, {'id': 19461, 'word': '笔记本电脑', 'score': 0.865}, {'id': 19463, 'word': '笔记簿电脑', 'score': 0.865}, {'id': 19464, 'word': '笔记簿电脑', 'score': 0.865}, {'id': 20567, 'word': '便携式电脑', 'score': 0.865}, {'id': 20568, 'word': '便携式计算机', 'score': 0.865}, {'id': 20569, 'word': '便携式计算机', 'score': 0.865}, {'id': 127224, 'word': '平板电脑', 'score': 0.865}, {'id': 127225, 'word': '平板电脑', 'score': 0.865}, {'id': 172264, 'word': '膝上型电脑', 'score': 0.865}, {'id': 172265, 'word': '膝上型电脑', 'score': 0.865}]\n"
     ]
    }
   ],
   "source": [
    "query_result = hownet_dict_advanced.get_nearest_words_via_sememes(\"苹果\",20)\n",
    "example = query_result[0]\n",
    "print(\"word_name:\",example[\"word\"])\n",
    "print(\"id:\",example[\"id\"])\n",
    "print(\"synset and corresonding word&id&score:\")\n",
    "print(example[\"synset\"])"
   ]
  },
  {
   "cell_type": "code",
   "execution_count": 32,
   "metadata": {},
   "outputs": [
    {
     "output_type": "execute_result",
     "data": {
      "text/plain": [
       "[{'id': 127151,\n",
       "  'word': '苹果',\n",
       "  'synset': [{'id': 4024, 'word': 'IBM', 'score': 1.0},\n",
       "   {'id': 41684, 'word': '戴尔', 'score': 1.0},\n",
       "   {'id': 49006, 'word': '东芝', 'score': 1.0},\n",
       "   {'id': 106795, 'word': '联想', 'score': 1.0},\n",
       "   {'id': 156029, 'word': '索尼', 'score': 1.0},\n",
       "   {'id': 4203, 'word': 'iPad', 'score': 0.865},\n",
       "   {'id': 19457, 'word': '笔记本', 'score': 0.865},\n",
       "   {'id': 19458, 'word': '笔记本电脑', 'score': 0.865},\n",
       "   {'id': 19459, 'word': '笔记本电脑', 'score': 0.865},\n",
       "   {'id': 19460, 'word': '笔记本电脑', 'score': 0.865},\n",
       "   {'id': 19461, 'word': '笔记本电脑', 'score': 0.865},\n",
       "   {'id': 19463, 'word': '笔记簿电脑', 'score': 0.865},\n",
       "   {'id': 19464, 'word': '笔记簿电脑', 'score': 0.865},\n",
       "   {'id': 20567, 'word': '便携式电脑', 'score': 0.865},\n",
       "   {'id': 20568, 'word': '便携式计算机', 'score': 0.865},\n",
       "   {'id': 20569, 'word': '便携式计算机', 'score': 0.865},\n",
       "   {'id': 127224, 'word': '平板电脑', 'score': 0.865},\n",
       "   {'id': 127225, 'word': '平板电脑', 'score': 0.865},\n",
       "   {'id': 172264, 'word': '膝上型电脑', 'score': 0.865},\n",
       "   {'id': 172265, 'word': '膝上型电脑', 'score': 0.865}]},\n",
       " {'id': 127152,\n",
       "  'word': '苹果',\n",
       "  'synset': [{'id': 8595, 'word': '椪柑', 'score': 1.0},\n",
       "   {'id': 11487, 'word': '阿月浑子果实', 'score': 1.0},\n",
       "   {'id': 11488, 'word': '阿月浑子果实', 'score': 1.0},\n",
       "   {'id': 13236, 'word': '芭蕉', 'score': 1.0},\n",
       "   {'id': 13238, 'word': '芭乐', 'score': 1.0},\n",
       "   {'id': 13620, 'word': '巴西莓', 'score': 1.0},\n",
       "   {'id': 14036, 'word': '白醋栗', 'score': 1.0},\n",
       "   {'id': 14102, 'word': '白果', 'score': 1.0},\n",
       "   {'id': 15238, 'word': '板栗', 'score': 1.0},\n",
       "   {'id': 20461, 'word': '扁桃', 'score': 1.0},\n",
       "   {'id': 20462, 'word': '扁桃', 'score': 1.0},\n",
       "   {'id': 22491, 'word': '菠萝', 'score': 1.0},\n",
       "   {'id': 22492, 'word': '菠萝', 'score': 1.0},\n",
       "   {'id': 22496, 'word': '菠萝蜜', 'score': 1.0},\n",
       "   {'id': 22497, 'word': '菠萝蜜', 'score': 1.0},\n",
       "   {'id': 22682, 'word': '波萝', 'score': 1.0},\n",
       "   {'id': 22683, 'word': '波萝蜜', 'score': 1.0},\n",
       "   {'id': 27629, 'word': '藏青果', 'score': 1.0},\n",
       "   {'id': 27933, 'word': '草莓', 'score': 1.0},\n",
       "   {'id': 29760, 'word': '长生果', 'score': 1.0}]},\n",
       " {'id': 127153,\n",
       "  'word': '苹果',\n",
       "  'synset': [{'id': 127167, 'word': '苹果手机', 'score': 1.0},\n",
       "   {'id': 207396, 'word': '智能手机', 'score': 0.9428571428571428},\n",
       "   {'id': 26737, 'word': '彩笔', 'score': 0.836074074074074},\n",
       "   {'id': 103117, 'word': '蜡笔', 'score': 0.836074074074074},\n",
       "   {'id': 103118, 'word': '蜡笔', 'score': 0.836074074074074},\n",
       "   {'id': 4206, 'word': 'iphone', 'score': 0.8315714285714285},\n",
       "   {'id': 10443, 'word': 'ＢＰ机', 'score': 0.8315714285714285},\n",
       "   {'id': 10444, 'word': 'ＢＰ机', 'score': 0.8315714285714285},\n",
       "   {'id': 26104, 'word': '步话机', 'score': 0.8315714285714285},\n",
       "   {'id': 26105, 'word': '步话机', 'score': 0.8315714285714285},\n",
       "   {'id': 26129, 'word': '步谈机', 'score': 0.8315714285714285},\n",
       "   {'id': 26142, 'word': '步行机', 'score': 0.8315714285714285},\n",
       "   {'id': 35809, 'word': '传呼机', 'score': 0.8315714285714285},\n",
       "   {'id': 40486, 'word': '大哥大', 'score': 0.8315714285714285},\n",
       "   {'id': 40487, 'word': '大哥大', 'score': 0.8315714285714285},\n",
       "   {'id': 51116, 'word': '对讲机', 'score': 0.8315714285714285},\n",
       "   {'id': 76166, 'word': '呼机', 'score': 0.8315714285714285},\n",
       "   {'id': 108667, 'word': '拎包', 'score': 0.8315714285714285},\n",
       "   {'id': 149625, 'word': '手包', 'score': 0.8315714285714285},\n",
       "   {'id': 149650, 'word': '手持机', 'score': 0.8315714285714285}]},\n",
       " {'id': 127154,\n",
       "  'word': '苹果',\n",
       "  'synset': [{'id': 11489, 'word': '阿月浑子树', 'score': 1.0},\n",
       "   {'id': 11490, 'word': '阿月浑子树', 'score': 1.0},\n",
       "   {'id': 20463, 'word': '扁桃', 'score': 1.0},\n",
       "   {'id': 22493, 'word': '菠萝', 'score': 1.0},\n",
       "   {'id': 22494, 'word': '菠萝', 'score': 1.0},\n",
       "   {'id': 22495, 'word': '菠萝', 'score': 1.0},\n",
       "   {'id': 70842, 'word': '果木', 'score': 1.0},\n",
       "   {'id': 70867, 'word': '果树', 'score': 1.0},\n",
       "   {'id': 71849, 'word': '海棠', 'score': 1.0},\n",
       "   {'id': 73726, 'word': '核桃', 'score': 1.0},\n",
       "   {'id': 73732, 'word': '核桃树', 'score': 1.0},\n",
       "   {'id': 90647, 'word': '桔树', 'score': 1.0},\n",
       "   {'id': 90648, 'word': '桔树', 'score': 1.0},\n",
       "   {'id': 97993, 'word': '开心果树', 'score': 1.0},\n",
       "   {'id': 97994, 'word': '开心果树', 'score': 1.0},\n",
       "   {'id': 97995, 'word': '开心果树', 'score': 1.0},\n",
       "   {'id': 105331, 'word': '梨', 'score': 1.0},\n",
       "   {'id': 105334, 'word': '梨树', 'score': 1.0},\n",
       "   {'id': 105872, 'word': '荔枝', 'score': 1.0},\n",
       "   {'id': 105873, 'word': '荔枝', 'score': 1.0}]},\n",
       " {'id': 127155,\n",
       "  'word': '苹果',\n",
       "  'synset': [{'id': 11489, 'word': '阿月浑子树', 'score': 1.0},\n",
       "   {'id': 11490, 'word': '阿月浑子树', 'score': 1.0},\n",
       "   {'id': 20463, 'word': '扁桃', 'score': 1.0},\n",
       "   {'id': 22493, 'word': '菠萝', 'score': 1.0},\n",
       "   {'id': 22494, 'word': '菠萝', 'score': 1.0},\n",
       "   {'id': 22495, 'word': '菠萝', 'score': 1.0},\n",
       "   {'id': 70842, 'word': '果木', 'score': 1.0},\n",
       "   {'id': 70867, 'word': '果树', 'score': 1.0},\n",
       "   {'id': 71849, 'word': '海棠', 'score': 1.0},\n",
       "   {'id': 73726, 'word': '核桃', 'score': 1.0},\n",
       "   {'id': 73732, 'word': '核桃树', 'score': 1.0},\n",
       "   {'id': 90647, 'word': '桔树', 'score': 1.0},\n",
       "   {'id': 90648, 'word': '桔树', 'score': 1.0},\n",
       "   {'id': 97993, 'word': '开心果树', 'score': 1.0},\n",
       "   {'id': 97994, 'word': '开心果树', 'score': 1.0},\n",
       "   {'id': 97995, 'word': '开心果树', 'score': 1.0},\n",
       "   {'id': 105331, 'word': '梨', 'score': 1.0},\n",
       "   {'id': 105334, 'word': '梨树', 'score': 1.0},\n",
       "   {'id': 105872, 'word': '荔枝', 'score': 1.0},\n",
       "   {'id': 105873, 'word': '荔枝', 'score': 1.0}]},\n",
       " {'id': 127156,\n",
       "  'word': '苹果',\n",
       "  'synset': [{'id': 11489, 'word': '阿月浑子树', 'score': 1.0},\n",
       "   {'id': 11490, 'word': '阿月浑子树', 'score': 1.0},\n",
       "   {'id': 20463, 'word': '扁桃', 'score': 1.0},\n",
       "   {'id': 22493, 'word': '菠萝', 'score': 1.0},\n",
       "   {'id': 22494, 'word': '菠萝', 'score': 1.0},\n",
       "   {'id': 22495, 'word': '菠萝', 'score': 1.0},\n",
       "   {'id': 70842, 'word': '果木', 'score': 1.0},\n",
       "   {'id': 70867, 'word': '果树', 'score': 1.0},\n",
       "   {'id': 71849, 'word': '海棠', 'score': 1.0},\n",
       "   {'id': 73726, 'word': '核桃', 'score': 1.0},\n",
       "   {'id': 73732, 'word': '核桃树', 'score': 1.0},\n",
       "   {'id': 90647, 'word': '桔树', 'score': 1.0},\n",
       "   {'id': 90648, 'word': '桔树', 'score': 1.0},\n",
       "   {'id': 97993, 'word': '开心果树', 'score': 1.0},\n",
       "   {'id': 97994, 'word': '开心果树', 'score': 1.0},\n",
       "   {'id': 97995, 'word': '开心果树', 'score': 1.0},\n",
       "   {'id': 105331, 'word': '梨', 'score': 1.0},\n",
       "   {'id': 105334, 'word': '梨树', 'score': 1.0},\n",
       "   {'id': 105872, 'word': '荔枝', 'score': 1.0},\n",
       "   {'id': 105873, 'word': '荔枝', 'score': 1.0}]}]"
      ]
     },
     "metadata": {},
     "execution_count": 32
    }
   ],
   "source": [
    "hownet_dict_advanced.get_nearest_words_via_sememes(\"苹果\",20)"
   ]
  },
  {
   "cell_type": "markdown",
   "metadata": {},
   "source": [
    "## Calculate the Similarity for the Given Two Words\n",
    "<b>If any of the given words does not exist in HowNet annotations, this function will return 0.</b>"
   ]
  },
  {
   "cell_type": "code",
   "execution_count": 33,
   "metadata": {},
   "outputs": [
    {
     "output_type": "execute_result",
     "data": {
      "text/plain": [
       "1.0"
      ]
     },
     "metadata": {},
     "execution_count": 33
    }
   ],
   "source": [
    "hownet_dict_advanced.calculate_word_similarity(\"苹果\",\"梨\")"
   ]
  },
  {
   "cell_type": "code",
   "execution_count": null,
   "metadata": {},
   "outputs": [],
   "source": []
  }
 ],
 "metadata": {
  "kernelspec": {
   "display_name": "Python 3",
   "language": "python",
   "name": "python3"
  },
  "language_info": {
   "codemirror_mode": {
    "name": "ipython",
    "version": 3
   },
   "file_extension": ".py",
   "mimetype": "text/x-python",
   "name": "python",
   "nbconvert_exporter": "python",
   "pygments_lexer": "ipython3",
   "version": "3.6.9-final"
  },
  "toc": {
   "base_numbering": 1,
   "nav_menu": {},
   "number_sections": true,
   "sideBar": true,
   "skip_h1_title": false,
   "title_cell": "Table of Contents",
   "title_sidebar": "Contents",
   "toc_cell": false,
   "toc_position": {},
   "toc_section_display": true,
   "toc_window_display": false
  }
 },
 "nbformat": 4,
 "nbformat_minor": 2
}